{
 "cells": [
  {
   "cell_type": "markdown",
   "metadata": {},
   "source": [
    "# Integrales dobles\n",
    "**Integrantes**\n",
    "- Integrante 1: Hissam Quintero Avilez\n",
    "- Integrante 2: Arturo Velgis Garcia\n",
    "- Integrante 3: José Manuel Lira Aguas"
   ]
  },
  {
   "cell_type": "markdown",
   "metadata": {},
   "source": [
    "## Integración en regiones rectangulares\n",
    "Si queremos integrar una funcion $f(x,y)$ en una region $R=[a,b]\\times[c,d]$ \n",
    "![](https://cnx.org/resources/1004b01a48a68e948e28de33b654e16eb84ddd39/CNX_Calc_Figure_15_01_001.jpg)\n",
    "Se puede usar la aproximacion:\n",
    "$$\\int_a^b\\int_c^d f(x,y)dydx\\approx \\frac{(b-a)(d-c)}{N}\\sum_{i=1}^N f(x_i,y_i)$$\n"
   ]
  },
  {
   "cell_type": "markdown",
   "metadata": {},
   "source": [
    "donde $x_i, y_i$ son variables aleatorias distribuidas uniformemente en $[a,b],\\ y\\ [c,d]$ respectivamente\n",
    "$$x_i\\sim\\mathcal{U}\\left[a,b\\right]$$\n",
    "$$y_i\\sim\\mathcal{U}\\left[c,d\\right]$$"
   ]
  },
  {
   "cell_type": "markdown",
   "metadata": {},
   "source": [
    "## Integración en regiones no rectangulares\n",
    "Si queremos integrar una función $f(x,y)$ en una region $D$ (como se muestra en la figura)\n",
    "![fig2](fig2.png)\n",
    "Se utiliza el siguiente teorema (1):\n",
    "$$\\iint_D f(x,y)dA=\\iint_R F(x,y)dA$$ donde $D\\subset R=[a,b]\\times[c,d]$ y $F$ esta dada por:\n",
    "$$ F(x,y)= \\Bigg \\{ \\begin{matrix} f(x,y)\\ si\\ (x,y)\\in D \\\\ 0\\ si\\ (x,y)\\in R\\ pero\\  (x,y)\\notin D \\end{matrix} $$\n",
    "![fig3](fig3.png)\n",
    "De esta forma, se puede utilizar la misma aproximacion que antes:\n",
    "$$\\iint_D f(x,y)dA=\\iint_R F(x,y)dR\\approx \\frac{(b-a)(d-c)}{N}\\sum_{i=1}^N F(x_i,y_i) $$\n"
   ]
  },
  {
   "cell_type": "code",
   "execution_count": 1,
   "metadata": {},
   "outputs": [],
   "source": [
    "import numpy as np\n",
    "import math\n",
    "import pandas as pd\n",
    "from matplotlib import pyplot as plt\n",
    "%matplotlib inline\n",
    "\n",
    "#regiones rectangulares\n",
    "def int_montecarlo1(funcion, a, b, c, d, N):\n",
    "    u_x = np.random.uniform(a, b, N)\n",
    "    u_y = np.random.uniform(c, d, N)\n",
    "    return (b-a)*(d-c)/N*funcion(u_x,u_y).sum()\n",
    "    \n",
    "#regiones no rectangulares\n",
    "\n",
    "def F(region, funcion,x,y):\n",
    "    if region(x,y):\n",
    "        return funcion(x,y)\n",
    "    else:\n",
    "        return 0\n",
    "    \n",
    "def int_montecarlo2(region, funcion, a, b, c, d, N):\n",
    "    fsum=0\n",
    "    u_x=np.random.uniform(a,b,N)\n",
    "    u_y=np.random.uniform(c,d,N)\n",
    "    for i in range (N):\n",
    "        fsum=fsum+F(region, funcion, u_x[i], u_y[i])\n",
    "    return (b-a)*(d-c)/N*fsum\n",
    "\n"
   ]
  },
  {
   "cell_type": "markdown",
   "metadata": {},
   "source": [
    "### Ejemplos regiones rectangulares\n",
    "$$I_1=\\int_{-1}^1 \\int_{-2}^2 \\sqrt{1-x^2}dydx$$\n",
    "\n",
    "$$I_2=\\int_{0}^2\\int_1^2 x-3y^2 dydx$$\n",
    "\n",
    "\n",
    "#### Soluciones reales:\n",
    "$$I_1=2\\pi$$\n",
    "$$I_2=-12$$\n"
   ]
  },
  {
   "cell_type": "code",
   "execution_count": 2,
   "metadata": {},
   "outputs": [
    {
     "data": {
      "text/html": [
       "<div>\n",
       "<style scoped>\n",
       "    .dataframe tbody tr th:only-of-type {\n",
       "        vertical-align: middle;\n",
       "    }\n",
       "\n",
       "    .dataframe tbody tr th {\n",
       "        vertical-align: top;\n",
       "    }\n",
       "\n",
       "    .dataframe thead th {\n",
       "        text-align: right;\n",
       "    }\n",
       "</style>\n",
       "<table border=\"1\" class=\"dataframe\">\n",
       "  <thead>\n",
       "    <tr style=\"text-align: right;\">\n",
       "      <th></th>\n",
       "      <th>I1 aprox:</th>\n",
       "      <th>%error1:</th>\n",
       "      <th>I2 aprox:</th>\n",
       "      <th>%error2</th>\n",
       "    </tr>\n",
       "  </thead>\n",
       "  <tbody>\n",
       "    <tr>\n",
       "      <th>10</th>\n",
       "      <td>6.50048</td>\n",
       "      <td>3.4584</td>\n",
       "      <td>-10.3271</td>\n",
       "      <td>13.9404</td>\n",
       "    </tr>\n",
       "    <tr>\n",
       "      <th>100</th>\n",
       "      <td>6.36106</td>\n",
       "      <td>1.23934</td>\n",
       "      <td>-11.7017</td>\n",
       "      <td>2.48601</td>\n",
       "    </tr>\n",
       "    <tr>\n",
       "      <th>1000</th>\n",
       "      <td>6.1999</td>\n",
       "      <td>1.32555</td>\n",
       "      <td>-11.8413</td>\n",
       "      <td>1.32252</td>\n",
       "    </tr>\n",
       "    <tr>\n",
       "      <th>10000</th>\n",
       "      <td>6.3135</td>\n",
       "      <td>0.482429</td>\n",
       "      <td>-12.1288</td>\n",
       "      <td>1.07329</td>\n",
       "    </tr>\n",
       "    <tr>\n",
       "      <th>100000</th>\n",
       "      <td>6.29586</td>\n",
       "      <td>0.20166</td>\n",
       "      <td>-11.9883</td>\n",
       "      <td>0.0978407</td>\n",
       "    </tr>\n",
       "    <tr>\n",
       "      <th>1000000</th>\n",
       "      <td>6.28495</td>\n",
       "      <td>0.028137</td>\n",
       "      <td>-11.9948</td>\n",
       "      <td>0.0431931</td>\n",
       "    </tr>\n",
       "    <tr>\n",
       "      <th>10000000</th>\n",
       "      <td>6.28373</td>\n",
       "      <td>0.00870938</td>\n",
       "      <td>-12.0026</td>\n",
       "      <td>0.0213643</td>\n",
       "    </tr>\n",
       "  </tbody>\n",
       "</table>\n",
       "</div>"
      ],
      "text/plain": [
       "         I1 aprox:    %error1: I2 aprox:    %error2\n",
       "10         6.50048      3.4584  -10.3271    13.9404\n",
       "100        6.36106     1.23934  -11.7017    2.48601\n",
       "1000        6.1999     1.32555  -11.8413    1.32252\n",
       "10000       6.3135    0.482429  -12.1288    1.07329\n",
       "100000     6.29586     0.20166  -11.9883  0.0978407\n",
       "1000000    6.28495    0.028137  -11.9948  0.0431931\n",
       "10000000   6.28373  0.00870938  -12.0026  0.0213643"
      ]
     },
     "execution_count": 2,
     "metadata": {},
     "output_type": "execute_result"
    }
   ],
   "source": [
    "#funciones\n",
    "def f1(x,y):\n",
    "    return (1-x**2)**.5\n",
    "def f2(x,y):\n",
    "    return x-3*y**2\n",
    "\n",
    "#integrales\n",
    "N=np.logspace(1, 7, 7).astype(int)\n",
    "tabla = pd.DataFrame(index=N, columns=['I1 aprox:', '%error1:', 'I2 aprox:', '%error2'])\n",
    "for n in N:\n",
    "    I_1=tabla.loc[n, 'I1 aprox:'] = int_montecarlo1(funcion=f1, a=-1, b=1, c=-2, d=2, N=n)\n",
    "    tabla.loc[n, '%error1:'] = 100*np.abs(2*math.pi-I_1)/(2*math.pi) \n",
    "    I_2=tabla.loc[n, 'I2 aprox:'] = int_montecarlo1(funcion=f2, a=-0, b=2, c=1, d=2, N=n)\n",
    "    tabla.loc[n, '%error2'] = 100*np.abs(-12-I_2)/12 \n",
    "tabla"
   ]
  },
  {
   "cell_type": "markdown",
   "metadata": {},
   "source": [
    "### Ejemplos regiones no rectangulares\n",
    "$$I_3=\\iint_D x^2+y^2 dD,\\ D={(x,y): 2<x<y<6}$$ \n",
    "\n",
    "\n",
    "\n",
    "#### Soluciones reales\n",
    "$$I_3=832/3\\approx 277$$"
   ]
  },
  {
   "cell_type": "code",
   "execution_count": 3,
   "metadata": {},
   "outputs": [],
   "source": [
    "def region1(x,y):\n",
    "    return 2<x<y<6\n",
    "def f3(x,y):\n",
    "    return x**2+y**2\n"
   ]
  },
  {
   "cell_type": "code",
   "execution_count": 6,
   "metadata": {},
   "outputs": [
    {
     "data": {
      "text/html": [
       "<div>\n",
       "<style scoped>\n",
       "    .dataframe tbody tr th:only-of-type {\n",
       "        vertical-align: middle;\n",
       "    }\n",
       "\n",
       "    .dataframe tbody tr th {\n",
       "        vertical-align: top;\n",
       "    }\n",
       "\n",
       "    .dataframe thead th {\n",
       "        text-align: right;\n",
       "    }\n",
       "</style>\n",
       "<table border=\"1\" class=\"dataframe\">\n",
       "  <thead>\n",
       "    <tr style=\"text-align: right;\">\n",
       "      <th></th>\n",
       "      <th>I3 aprox:</th>\n",
       "      <th>%error3:</th>\n",
       "    </tr>\n",
       "  </thead>\n",
       "  <tbody>\n",
       "    <tr>\n",
       "      <th>10</th>\n",
       "      <td>327.407</td>\n",
       "      <td>18.0554</td>\n",
       "    </tr>\n",
       "    <tr>\n",
       "      <th>100</th>\n",
       "      <td>269.148</td>\n",
       "      <td>2.9514</td>\n",
       "    </tr>\n",
       "    <tr>\n",
       "      <th>1000</th>\n",
       "      <td>252.207</td>\n",
       "      <td>9.05988</td>\n",
       "    </tr>\n",
       "    <tr>\n",
       "      <th>10000</th>\n",
       "      <td>273.129</td>\n",
       "      <td>1.51601</td>\n",
       "    </tr>\n",
       "    <tr>\n",
       "      <th>100000</th>\n",
       "      <td>280.22</td>\n",
       "      <td>1.04078</td>\n",
       "    </tr>\n",
       "    <tr>\n",
       "      <th>1000000</th>\n",
       "      <td>276.539</td>\n",
       "      <td>0.286599</td>\n",
       "    </tr>\n",
       "  </tbody>\n",
       "</table>\n",
       "</div>"
      ],
      "text/plain": [
       "        I3 aprox:  %error3:\n",
       "10        327.407   18.0554\n",
       "100       269.148    2.9514\n",
       "1000      252.207   9.05988\n",
       "10000     273.129   1.51601\n",
       "100000     280.22   1.04078\n",
       "1000000   276.539  0.286599"
      ]
     },
     "execution_count": 6,
     "metadata": {},
     "output_type": "execute_result"
    }
   ],
   "source": [
    "N=np.logspace(1, 6, 6).astype(int)\n",
    "tabla = pd.DataFrame(index=N, columns=['I3 aprox:', '%error3:'])\n",
    "for n in N:\n",
    "    I_3=tabla.loc[n, 'I3 aprox:'] = int_montecarlo2(region1, f3, a=0, b=6, c=0, d=7, N=n)\n",
    "    tabla.loc[n, '%error3:'] = 100*np.abs(832/3-I_3)/(832/3) \n",
    "tabla"
   ]
  },
  {
   "cell_type": "markdown",
   "metadata": {},
   "source": [
    "### Referencias\n",
    "(1) Stewart, J. (2012). Cálculo de varias variables: Trascendentes tempranas (7a edición.). México: Cengage Learning. p:988-990"
   ]
  },
  {
   "cell_type": "code",
   "execution_count": null,
   "metadata": {},
   "outputs": [],
   "source": []
  }
 ],
 "metadata": {
  "kernelspec": {
   "display_name": "Python 3",
   "language": "python",
   "name": "python3"
  },
  "language_info": {
   "codemirror_mode": {
    "name": "ipython",
    "version": 3
   },
   "file_extension": ".py",
   "mimetype": "text/x-python",
   "name": "python",
   "nbconvert_exporter": "python",
   "pygments_lexer": "ipython3",
   "version": "3.8.5"
  }
 },
 "nbformat": 4,
 "nbformat_minor": 4
}
