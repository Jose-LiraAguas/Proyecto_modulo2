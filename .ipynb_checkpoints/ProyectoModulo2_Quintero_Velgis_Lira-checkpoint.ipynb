{
 "cells": [
  {
   "cell_type": "markdown",
   "metadata": {},
   "source": [
    "# Integrales dobles\n",
    "**Integrantes**\n",
    "- Integrante 1: Hissam Quintero Avilez\n",
    "- Integrante 2: Arturo Velgis Garcia\n",
    "- Integrante 3: José Manuel Lira Aguas"
   ]
  },
  {
   "cell_type": "markdown",
   "metadata": {},
   "source": [
    "## Integración en regiones rectangulares\n",
    "Si queremos integrar una funcion $f(x,y)$ en una region $R=[a,b]\\times[c,d]$ \n",
    "![](https://cnx.org/resources/1004b01a48a68e948e28de33b654e16eb84ddd39/CNX_Calc_Figure_15_01_001.jpg)\n",
    "Se puede usar la aproximacion:\n",
    "$$\\int_a^b\\int_c^d f(x,y)dydx\\approx \\frac{(b-a)(d-c)}{N}\\sum_{i=1}^N f(x_i,y_i)$$\n"
   ]
  },
  {
   "cell_type": "markdown",
   "metadata": {},
   "source": [
    "donde $x_i, y_i$ son variables aleatorias distribuidas uniformemente en $[a,b],\\ y\\ [c,d]$ respectivamente\n",
    "$$x_i\\sim\\mathcal{U}\\left[a,b\\right]$$\n",
    "$$y_i\\sim\\mathcal{U}\\left[c,d\\right]$$"
   ]
  },
  {
   "cell_type": "markdown",
   "metadata": {},
   "source": [
    "## Integración en regiones no rectangulares\n",
    "Si queremos integrar una función $f(x,y)$ en una region $D$ (como se muestra en la figura)\n",
    "![fig2](fig2.png)\n",
    "Se utiliza el siguiente teorema (1):\n",
    "$$\\iint_D f(x,y)dA=\\iint_R F(x,y)dA$$ donde $D\\subset R=[a,b]\\times[c,d]$ y $F$ esta dada por:\n",
    "$$ F(x,y)= \\Bigg \\{ \\begin{matrix} f(x,y)\\ si\\ (x,y)\\in D \\\\ 0\\ si\\ (x,y)\\in R\\ pero\\  (x,y)\\notin D \\end{matrix} $$\n",
    "![fig3](fig3.png)\n",
    "De esta forma, se puede utilizar la misma aproximacion que antes:\n",
    "$$\\iint_D f(x,y)dA=\\iint_R F(x,y)dR\\approx \\frac{(b-a)(d-c)}{N}\\sum_{i=1}^N F(x_i,y_i) $$\n"
   ]
  },
  {
   "cell_type": "code",
   "execution_count": 1,
   "metadata": {},
   "outputs": [],
   "source": [
    "import numpy as np\n",
    "import math\n",
    "import pandas as pd\n",
    "from matplotlib import pyplot as plt\n",
    "%matplotlib inline\n",
    "\n",
    "#regiones rectangulares\n",
    "def int_montecarlo1(funcion, a, b, c, d, N):\n",
    "    u_x = np.random.uniform(a, b, N)\n",
    "    u_y = np.random.uniform(c, d, N)\n",
    "    return (b-a)*(d-c)/N*funcion(u_x,u_y).sum()\n",
    "    \n",
    "#regiones no rectangulares\n",
    "\n",
    "def F(region, funcion,x,y):\n",
    "    if region(x,y):\n",
    "        return funcion(x,y)\n",
    "    else:\n",
    "        return 0\n",
    "    \n",
    "def int_montecarlo2(region, funcion, a, b, c, d, N):\n",
    "    fsum=0\n",
    "    u_x=np.random.uniform(a,b,N)\n",
    "    u_y=np.random.uniform(c,d,N)\n",
    "    for i in range (N):\n",
    "        fsum=fsum+F(region, funcion, u_x[i], u_y[i])\n",
    "    return (b-a)*(d-c)/N*fsum\n",
    "\n"
   ]
  },
  {
   "cell_type": "markdown",
   "metadata": {},
   "source": [
    "### Ejemplos regiones rectangulares\n",
    "$$I_1=\\int_{-1}^1 \\int_{-2}^2 \\sqrt{1-x^2}dydx$$\n",
    "\n",
    "$$I_2=\\int_{0}^2\\int_1^2 x-3y^2 dydx$$\n",
    "\n",
    "\n",
    "#### Soluciones analiticas:\n",
    "$$I_1=2\\pi$$\n",
    "$$I_2=-12$$\n"
   ]
  },
  {
   "cell_type": "code",
   "execution_count": 2,
   "metadata": {},
   "outputs": [
    {
     "data": {
      "text/html": [
       "<div>\n",
       "<style scoped>\n",
       "    .dataframe tbody tr th:only-of-type {\n",
       "        vertical-align: middle;\n",
       "    }\n",
       "\n",
       "    .dataframe tbody tr th {\n",
       "        vertical-align: top;\n",
       "    }\n",
       "\n",
       "    .dataframe thead th {\n",
       "        text-align: right;\n",
       "    }\n",
       "</style>\n",
       "<table border=\"1\" class=\"dataframe\">\n",
       "  <thead>\n",
       "    <tr style=\"text-align: right;\">\n",
       "      <th></th>\n",
       "      <th>I1 aprox:</th>\n",
       "      <th>%error1:</th>\n",
       "      <th>I2 aprox:</th>\n",
       "      <th>%error2</th>\n",
       "    </tr>\n",
       "  </thead>\n",
       "  <tbody>\n",
       "    <tr>\n",
       "      <th>10</th>\n",
       "      <td>5.50609</td>\n",
       "      <td>12.3679</td>\n",
       "      <td>-10.2785</td>\n",
       "      <td>14.3456</td>\n",
       "    </tr>\n",
       "    <tr>\n",
       "      <th>100</th>\n",
       "      <td>6.16581</td>\n",
       "      <td>1.86815</td>\n",
       "      <td>-11.8211</td>\n",
       "      <td>1.49053</td>\n",
       "    </tr>\n",
       "    <tr>\n",
       "      <th>1000</th>\n",
       "      <td>6.33867</td>\n",
       "      <td>0.883069</td>\n",
       "      <td>-12.2037</td>\n",
       "      <td>1.6974</td>\n",
       "    </tr>\n",
       "    <tr>\n",
       "      <th>10000</th>\n",
       "      <td>6.24994</td>\n",
       "      <td>0.529161</td>\n",
       "      <td>-11.9413</td>\n",
       "      <td>0.489346</td>\n",
       "    </tr>\n",
       "    <tr>\n",
       "      <th>100000</th>\n",
       "      <td>6.28844</td>\n",
       "      <td>0.0836792</td>\n",
       "      <td>-11.9825</td>\n",
       "      <td>0.145853</td>\n",
       "    </tr>\n",
       "    <tr>\n",
       "      <th>1000000</th>\n",
       "      <td>6.2843</td>\n",
       "      <td>0.0177451</td>\n",
       "      <td>-12.0008</td>\n",
       "      <td>0.00637034</td>\n",
       "    </tr>\n",
       "    <tr>\n",
       "      <th>10000000</th>\n",
       "      <td>6.28226</td>\n",
       "      <td>0.014788</td>\n",
       "      <td>-11.9995</td>\n",
       "      <td>0.00447605</td>\n",
       "    </tr>\n",
       "  </tbody>\n",
       "</table>\n",
       "</div>"
      ],
      "text/plain": [
       "         I1 aprox:   %error1: I2 aprox:     %error2\n",
       "10         5.50609    12.3679  -10.2785     14.3456\n",
       "100        6.16581    1.86815  -11.8211     1.49053\n",
       "1000       6.33867   0.883069  -12.2037      1.6974\n",
       "10000      6.24994   0.529161  -11.9413    0.489346\n",
       "100000     6.28844  0.0836792  -11.9825    0.145853\n",
       "1000000     6.2843  0.0177451  -12.0008  0.00637034\n",
       "10000000   6.28226   0.014788  -11.9995  0.00447605"
      ]
     },
     "execution_count": 2,
     "metadata": {},
     "output_type": "execute_result"
    }
   ],
   "source": [
    "#funciones\n",
    "def f1(x,y):\n",
    "    return (1-x**2)**.5\n",
    "def f2(x,y):\n",
    "    return x-3*y**2\n",
    "\n",
    "#integrales\n",
    "N=np.logspace(1, 7, 7).astype(int)\n",
    "tabla = pd.DataFrame(index=N, columns=['I1 aprox:', '%error1:', 'I2 aprox:', '%error2'])\n",
    "for n in N:\n",
    "    I_1=tabla.loc[n, 'I1 aprox:'] = int_montecarlo1(funcion=f1, a=-1, b=1, c=-2, d=2, N=n)\n",
    "    tabla.loc[n, '%error1:'] = 100*np.abs(2*math.pi-I_1)/(2*math.pi) \n",
    "    I_2=tabla.loc[n, 'I2 aprox:'] = int_montecarlo1(funcion=f2, a=-0, b=2, c=1, d=2, N=n)\n",
    "    tabla.loc[n, '%error2'] = 100*np.abs(-12-I_2)/12 \n",
    "tabla"
   ]
  },
  {
   "cell_type": "markdown",
   "metadata": {},
   "source": [
    "### Ejemplos regiones no rectangulares\n",
    "$$I_3=\\iint_D x^2+y^2 dD,\\ D={(x,y): 2\\leq x\\leq y\\leq6}$$ \n",
    "\n",
    "$$I_4= \\iint_D y^2+cos^2(x^2),\\ D={(x,y): \\frac{x^2}{16}+\\frac{y^2}{36}\\leq 1} $$\n",
    "\n",
    "#### Soluciones analiticas\n",
    "$$I_3=832/3\\approx 277$$\n",
    "$$I_4=230\\pi$$"
   ]
  },
  {
   "cell_type": "code",
   "execution_count": 3,
   "metadata": {},
   "outputs": [],
   "source": [
    "def region1(x,y):\n",
    "    return 2<x<y<6\n",
    "#esta funcion es solo para graficar la region1, la anterior no se podia graficar\n",
    "def region1_graf(x,y):\n",
    "    return np.logical_and(2<x,np.logical_and(x<y,y<6))\n",
    "\n",
    "def f3(x,y):\n",
    "    return x**2+y**2\n",
    "\n",
    "def region2(x,y):\n",
    "    return x**2/16+y**2/36<1\n",
    "\n",
    "def f4(x,y):\n",
    "    return math.cos(x**2)**2+y**2"
   ]
  },
  {
   "cell_type": "markdown",
   "metadata": {},
   "source": [
    "Se grafican las regiones para elegir un rectangulo que las contenga"
   ]
  },
  {
   "cell_type": "code",
   "execution_count": 4,
   "metadata": {},
   "outputs": [
    {
     "data": {
      "text/plain": [
       "Text(0, 0.5, 'y')"
      ]
     },
     "execution_count": 4,
     "metadata": {},
     "output_type": "execute_result"
    },
    {
     "data": {
      "image/png": "[encoded data removed]",
      "text/plain": [
       "<Figure size 432x288 with 1 Axes>"
      ]
     },
     "metadata": {
      "needs_background": "light"
     },
     "output_type": "display_data"
    }
   ],
   "source": [
    "N = 100000\n",
    "x = np.random.uniform(0, 10, N)\n",
    "y = np.random.uniform(0, 10, N)\n",
    "\n",
    "dentro_region1 = region1_graf(x, y)\n",
    "plt.scatter(x[dentro_region1], y[dentro_region1])\n",
    "\n",
    "plt.xlabel('x')\n",
    "plt.ylabel('y')"
   ]
  },
  {
   "cell_type": "markdown",
   "metadata": {},
   "source": [
    "Para la primer region $R=[2,6]\\times[2,6]$"
   ]
  },
  {
   "cell_type": "code",
   "execution_count": 5,
   "metadata": {},
   "outputs": [
    {
     "data": {
      "text/plain": [
       "Text(0, 0.5, 'y')"
      ]
     },
     "execution_count": 5,
     "metadata": {},
     "output_type": "execute_result"
    },
    {
     "data": {
      "image/png": "[encoded data removed]",
      "text/plain": [
       "<Figure size 432x288 with 1 Axes>"
      ]
     },
     "metadata": {
      "needs_background": "light"
     },
     "output_type": "display_data"
    }
   ],
   "source": [
    "N = 100000\n",
    "x = np.random.uniform(-10, 10, N)\n",
    "y = np.random.uniform(-10, 10, N)\n",
    "\n",
    "dentro_region2 = region2(x, y)\n",
    "plt.scatter(x[dentro_region2], y[dentro_region2])\n",
    "\n",
    "plt.xlabel('x')\n",
    "plt.ylabel('y')"
   ]
  },
  {
   "cell_type": "markdown",
   "metadata": {},
   "source": [
    "Para esta region $R=[-4,4]\\times [-6,6]$"
   ]
  },
  {
   "cell_type": "code",
   "execution_count": 6,
   "metadata": {},
   "outputs": [
    {
     "data": {
      "text/html": [
       "<div>\n",
       "<style scoped>\n",
       "    .dataframe tbody tr th:only-of-type {\n",
       "        vertical-align: middle;\n",
       "    }\n",
       "\n",
       "    .dataframe tbody tr th {\n",
       "        vertical-align: top;\n",
       "    }\n",
       "\n",
       "    .dataframe thead th {\n",
       "        text-align: right;\n",
       "    }\n",
       "</style>\n",
       "<table border=\"1\" class=\"dataframe\">\n",
       "  <thead>\n",
       "    <tr style=\"text-align: right;\">\n",
       "      <th></th>\n",
       "      <th>I3 aprox:</th>\n",
       "      <th>%error3:</th>\n",
       "      <th>I4 aprox:</th>\n",
       "      <th>%error4:</th>\n",
       "    </tr>\n",
       "  </thead>\n",
       "  <tbody>\n",
       "    <tr>\n",
       "      <th>10</th>\n",
       "      <td>231.351</td>\n",
       "      <td>16.5802</td>\n",
       "      <td>780.747</td>\n",
       "      <td>8.052</td>\n",
       "    </tr>\n",
       "    <tr>\n",
       "      <th>100</th>\n",
       "      <td>286.355</td>\n",
       "      <td>3.25295</td>\n",
       "      <td>781.684</td>\n",
       "      <td>8.1816</td>\n",
       "    </tr>\n",
       "    <tr>\n",
       "      <th>1000</th>\n",
       "      <td>274.788</td>\n",
       "      <td>0.917963</td>\n",
       "      <td>750.997</td>\n",
       "      <td>3.93463</td>\n",
       "    </tr>\n",
       "    <tr>\n",
       "      <th>10000</th>\n",
       "      <td>279.19</td>\n",
       "      <td>0.66938</td>\n",
       "      <td>726.925</td>\n",
       "      <td>0.603252</td>\n",
       "    </tr>\n",
       "    <tr>\n",
       "      <th>100000</th>\n",
       "      <td>276.218</td>\n",
       "      <td>0.402256</td>\n",
       "      <td>724.551</td>\n",
       "      <td>0.274691</td>\n",
       "    </tr>\n",
       "    <tr>\n",
       "      <th>1000000</th>\n",
       "      <td>276.798</td>\n",
       "      <td>0.193026</td>\n",
       "      <td>723.194</td>\n",
       "      <td>0.0869163</td>\n",
       "    </tr>\n",
       "  </tbody>\n",
       "</table>\n",
       "</div>"
      ],
      "text/plain": [
       "        I3 aprox:  %error3: I4 aprox:   %error4:\n",
       "10        231.351   16.5802   780.747      8.052\n",
       "100       286.355   3.25295   781.684     8.1816\n",
       "1000      274.788  0.917963   750.997    3.93463\n",
       "10000      279.19   0.66938   726.925   0.603252\n",
       "100000    276.218  0.402256   724.551   0.274691\n",
       "1000000   276.798  0.193026   723.194  0.0869163"
      ]
     },
     "execution_count": 6,
     "metadata": {},
     "output_type": "execute_result"
    }
   ],
   "source": [
    "a_1, b_1, c_1, d_1= 2, 6, 2, 6\n",
    "a_2, b_2, c_2, d_2= -4, 4, -6, 6\n",
    "N=np.logspace(1, 6, 6).astype(int)\n",
    "tabla = pd.DataFrame(index=N, columns=['I3 aprox:', '%error3:', 'I4 aprox:', '%error4:'])\n",
    "for n in N:\n",
    "    I_3=tabla.loc[n, 'I3 aprox:'] = int_montecarlo2(region1, f3, a=a_1, b=b_1, c=c_1, d=d_1, N=n)\n",
    "    tabla.loc[n, '%error3:'] = 100*np.abs(832/3-I_3)/(832/3) \n",
    "    I_4=tabla.loc[n, 'I4 aprox:'] = int_montecarlo2(region2, f4, a=a_2, b=b_2, c=c_2, d=d_2, N=n)\n",
    "    tabla.loc[n, '%error4:'] = 100*np.abs(230*math.pi-I_4)/(230*math.pi) \n",
    "tabla"
   ]
  },
  {
   "cell_type": "markdown",
   "metadata": {},
   "source": [
    "### Referencias\n",
    "AT Patera and M Yano (2014). Monte Carlo Integration... in a Nutshell. MIT. https://ocw.mit.edu/courses/mechanical-engineering/2-086-numerical-computation-for-mechanical-engineers-fall-2014/nutshells-guis/MIT2_086F14_Monte_Carlo.pdf\n",
    "\n",
    "(1) Stewart, J. (2012). Cálculo de varias variables: Trascendentes tempranas (7a edición.). México: Cengage Learning. p:988-990"
   ]
  },
  {
   "cell_type": "code",
   "execution_count": null,
   "metadata": {},
   "outputs": [],
   "source": []
  }
 ],
 "metadata": {
  "kernelspec": {
   "display_name": "Python 3",
   "language": "python",
   "name": "python3"
  },
  "language_info": {
   "codemirror_mode": {
    "name": "ipython",
    "version": 3
   },
   "file_extension": ".py",
   "mimetype": "text/x-python",
   "name": "python",
   "nbconvert_exporter": "python",
   "pygments_lexer": "ipython3",
   "version": "3.8.5"
  }
 },
 "nbformat": 4,
 "nbformat_minor": 4
}
