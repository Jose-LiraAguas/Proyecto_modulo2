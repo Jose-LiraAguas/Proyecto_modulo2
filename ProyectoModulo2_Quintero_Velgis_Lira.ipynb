{
 "cells": [
  {
   "cell_type": "markdown",
   "metadata": {},
   "source": [
    "# Integrales dobles\n",
    "**Integrantes**\n",
    "- Integrante 1: Hissam Quintero Avilez\n",
    "- Integrante 2: Arturo Velgis Garcia\n",
    "- Integrante 3: José Manuel Lira Aguas"
   ]
  },
  {
   "cell_type": "markdown",
   "metadata": {},
   "source": [
    "## Integración en regiones rectangulares\n",
    "Si queremos integrar una funcion $f(x,y)$ en una region $R=[a,b]\\times[c,d]$ \n",
    "![](https://cnx.org/resources/1004b01a48a68e948e28de33b654e16eb84ddd39/CNX_Calc_Figure_15_01_001.jpg)\n",
    "Se puede usar la aproximacion:\n",
    "$$\\int_a^b\\int_c^d f(x,y)dydx\\approx \\frac{(b-a)(d-c)}{N}\\sum_{i=1}^N f(x_i,y_i)$$\n"
   ]
  },
  {
   "cell_type": "markdown",
   "metadata": {},
   "source": [
    "donde $x_i, y_i$ son variables aleatorias distribuidas uniformemente en $[a,b],\\ y\\ [c,d]$ respectivamente\n",
    "$$x_i\\sim\\mathcal{U}\\left[a,b\\right]$$\n",
    "$$y_i\\sim\\mathcal{U}\\left[c,d\\right]$$"
   ]
  },
  {
   "cell_type": "markdown",
   "metadata": {},
   "source": [
    "## Integración en regiones no rectangulares\n",
    "Si queremos integrar una función $f(x,y)$ en una region $D$ (como se muestra en la figura)\n",
    "![fig2](fig2.png)\n",
    "Se utiliza el siguiente teorema (1):\n",
    "$$\\iint_D f(x,y)dA=\\iint_R F(x,y)dA$$ donde $D\\subset R=[a,b]\\times[c,d]$ y $F$ esta dada por:\n",
    "$$ F(x,y)= \\Bigg \\{ \\begin{matrix} f(x,y)\\ si\\ (x,y)\\in D \\\\ 0\\ si\\ (x,y)\\in R\\ pero\\  (x,y)\\notin D \\end{matrix} $$\n",
    "![fig3](fig3.png)\n",
    "De esta forma, se puede utilizar la misma aproximacion que antes:\n",
    "$$\\iint_D f(x,y)dA=\\iint_R F(x,y)dR\\approx \\frac{(b-a)(d-c)}{N}\\sum_{i=1}^N F(x_i,y_i) $$\n"
   ]
  },
  {
   "cell_type": "code",
   "execution_count": 29,
   "metadata": {},
   "outputs": [],
   "source": [
    "import numpy as np\n",
    "from matplotlib import pyplot as plt\n",
    "%matplotlib inline\n",
    "\n",
    "#regiones rectangulares\n",
    "def int_montecarlo1(funcion, a, b, c, d, N):\n",
    "    u_x = np.random.uniform(a, b, N)\n",
    "    u_y = np.random.uniform(c, d, N)\n",
    "    return (b-a)*(d-c)/N*funcion(u_x,u_y).sum()\n",
    "    \n",
    "#regiones no rectangulares\n",
    "\n",
    "def F(region, funcion,x,y):\n",
    "    if region(x,y):\n",
    "        return funcion(x,y)\n",
    "    else:\n",
    "        return 0\n",
    "    \n",
    "def int_montecarlo2(region, funcion, a, b, c, d, N):\n",
    "    fsum=0\n",
    "    u_x=np.random.uniform(a,b,N)\n",
    "    u_y=np.random.uniform(c,d,N)\n",
    "    for i in range (N):\n",
    "        fsum=fsum+F(region, f2, u_x[i], u_y[i])\n",
    "    return (b-a)*(d-c)/N*fsum\n",
    "\n"
   ]
  },
  {
   "cell_type": "code",
   "execution_count": 46,
   "metadata": {},
   "outputs": [],
   "source": [
    "\n",
    "def region(x, y):\n",
    "    return 4 * (2 * x - 1)**4 + 8 * (2 * y - 1)**8 < 1 + 2 * (2 * y - 1)**3 * (3 * x - 2)**2\n",
    "def region2(x,y):\n",
    "    return (x**2)/4+(y**2)/9<1\n",
    "def f2(x,y):\n",
    "    return 3\n"
   ]
  },
  {
   "cell_type": "markdown",
   "metadata": {},
   "source": [
    "### Referencias\n",
    "(1) Stewart, J. (2012). Cálculo de varias variables: Trascendentes tempranas (7a edición.). México: Cengage Learning. p:"
   ]
  }
 ],
 "metadata": {
  "kernelspec": {
   "display_name": "Python 3",
   "language": "python",
   "name": "python3"
  },
  "language_info": {
   "codemirror_mode": {
    "name": "ipython",
    "version": 3
   },
   "file_extension": ".py",
   "mimetype": "text/x-python",
   "name": "python",
   "nbconvert_exporter": "python",
   "pygments_lexer": "ipython3",
   "version": "3.8.5"
  }
 },
 "nbformat": 4,
 "nbformat_minor": 4
}
