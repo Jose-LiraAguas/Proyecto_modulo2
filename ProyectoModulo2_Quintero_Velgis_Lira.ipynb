{
 "cells": [
  {
   "cell_type": "markdown",
   "metadata": {},
   "source": [
    "# Integrales dobles\n",
    "**Integrantes**\n",
    "- Integrante 1: Hissam Quintero Avilez\n",
    "- Integrante 2: Arturo Velgis Garcia\n",
    "- Integrante 3: José Manuel Lira Aguas"
   ]
  },
  {
   "cell_type": "markdown",
   "metadata": {},
   "source": [
    "## Integración MonteCarlo tipo1\n",
    "Si queremos integrar una funcion $f(x,y)$ en una region $R=[a,b]\\times[c,d]$ \n",
    "![](https://cnx.org/resources/1004b01a48a68e948e28de33b654e16eb84ddd39/CNX_Calc_Figure_15_01_001.jpg)\n",
    "Se puede usar la aproximacion:\n",
    "$$\\int_a^b\\int_c^d f(x,y)dydx\\approx \\frac{(b-a)(d-c)}{N}\\sum_{i=1}^N f(x_i,y_i)$$\n"
   ]
  },
  {
   "cell_type": "markdown",
   "metadata": {},
   "source": [
    "donde $x_i, y_i$ son variables aleatorias distribuidas uniformemente en $[a,b],\\ y\\ [c,d]$ respectivamente\n",
    "$$x_i\\sim\\mathcal{U}\\left[a,b\\right]$$\n",
    "$$y_i\\sim\\mathcal{U}\\left[c,d\\right]$$"
   ]
  },
  {
   "cell_type": "code",
   "execution_count": 18,
   "metadata": {},
   "outputs": [
    {
     "data": {
      "text/plain": [
       "23.332316101566605"
      ]
     },
     "execution_count": 18,
     "metadata": {},
     "output_type": "execute_result"
    }
   ],
   "source": [
    "import numpy as np\n",
    "from matplotlib import pyplot as plt\n",
    "%matplotlib inline\n",
    "#funcion\n",
    "def f1(x,y):\n",
    "    return x**2*y**2\n",
    "\n",
    "def int_montecarlo1(funcion, a, b, c, d, N):\n",
    "    u_x = np.random.uniform(a, b, N)\n",
    "    u_y = np.random.uniform(c, d, N)\n",
    "    return (b-a)*(d-c)/N*funcion(u_x,u_y).sum()\n",
    "    \n",
    "ejemplo= int_montecarlo1(funcion=f1, a=0, b=2, c=1, d=3, N=10000)\n",
    "ejemplo"
   ]
  },
  {
   "cell_type": "code",
   "execution_count": null,
   "metadata": {},
   "outputs": [],
   "source": []
  }
 ],
 "metadata": {
  "kernelspec": {
   "display_name": "Python 3",
   "language": "python",
   "name": "python3"
  },
  "language_info": {
   "codemirror_mode": {
    "name": "ipython",
    "version": 3
   },
   "file_extension": ".py",
   "mimetype": "text/x-python",
   "name": "python",
   "nbconvert_exporter": "python",
   "pygments_lexer": "ipython3",
   "version": "3.8.5"
  }
 },
 "nbformat": 4,
 "nbformat_minor": 4
}
