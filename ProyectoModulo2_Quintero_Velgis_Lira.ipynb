{
 "cells": [
  {
   "cell_type": "markdown",
   "metadata": {},
   "source": [
    "# Integrales dobles\n",
    "**Integrantes**\n",
    "- Integrante 1: Hissam Quintero Avilez\n",
    "- Integrante 2: Arturo Velgis García\n",
    "- Integrante 3: José Manuel Lira Aguas"
   ]
  },
  {
   "cell_type": "markdown",
   "metadata": {},
   "source": [
    "## Integración en regiones rectangulares\n",
    "Si queremos integrar una funcion $f(x,y)$ en una region $R=[a,b]\\times[c,d]$ \n",
    "![](https://cnx.org/resources/1004b01a48a68e948e28de33b654e16eb84ddd39/CNX_Calc_Figure_15_01_001.jpg)\n",
    "Se puede usar la aproximacion:\n",
    "$$\\int_a^b\\int_c^d f(x,y)dydx\\approx \\frac{(b-a)(d-c)}{N}\\sum_{i=1}^N f(x_i,y_i)$$\n"
   ]
  },
  {
   "cell_type": "markdown",
   "metadata": {},
   "source": [
    "donde $x_i, y_i$ son variables aleatorias distribuidas uniformemente en $[a,b],\\ y\\ [c,d]$ respectivamente\n",
    "$$x_i\\sim\\mathcal{U}\\left[a,b\\right]$$\n",
    "$$y_i\\sim\\mathcal{U}\\left[c,d\\right]$$"
   ]
  },
  {
   "cell_type": "markdown",
   "metadata": {},
   "source": [
    "## Integración en regiones no rectangulares\n",
    "Si queremos integrar una función $f(x,y)$ en una region $D$ (como se muestra en la figura)\n",
    "![fig2](fig2.png)\n",
    "Se utiliza el siguiente teorema (1):\n",
    "$$\\iint_D f(x,y)dA=\\iint_R F(x,y)dA$$ donde $D\\subset R=[a,b]\\times[c,d]$ y $F$ esta dada por:\n",
    "$$ F(x,y)= \\Bigg \\{ \\begin{matrix} f(x,y)\\ si\\ (x,y)\\in D \\\\ 0\\ si\\ (x,y)\\in R\\ pero\\  (x,y)\\notin D \\end{matrix} $$\n",
    "![fig3](fig3.png)\n",
    "De esta forma, se puede utilizar la misma aproximacion que antes:\n",
    "$$\\iint_D f(x,y)dA=\\iint_R F(x,y)dR\\approx \\frac{(b-a)(d-c)}{N}\\sum_{i=1}^N F(x_i,y_i) $$\n"
   ]
  },
  {
   "cell_type": "code",
   "execution_count": 1,
   "metadata": {},
   "outputs": [],
   "source": [
    "import numpy as np\n",
    "import math\n",
    "import pandas as pd\n",
    "from matplotlib import pyplot as plt\n",
    "%matplotlib inline\n",
    "\n",
    "#regiones rectangulares\n",
    "def int_montecarlo1(funcion, a, b, c, d, N):\n",
    "    u_x = np.random.uniform(a, b, N)\n",
    "    u_y = np.random.uniform(c, d, N)\n",
    "    return (b - a) * (d - c) / N * funcion(u_x, u_y).sum()\n",
    "    \n",
    "#regiones no rectangulares\n",
    "\n",
    "def F(region, funcion,x,y):\n",
    "    if region(x, y):\n",
    "        return funcion(x, y)\n",
    "    else:\n",
    "        return 0\n",
    "    \n",
    "def int_montecarlo2(region, funcion, a, b, c, d, N):\n",
    "    fsum = 0\n",
    "    u_x = np.random.uniform(a, b, N)\n",
    "    u_y = np.random.uniform(c, d, N)\n",
    "    for i in range (N):\n",
    "        fsum = fsum + F(region, funcion, u_x[i], u_y[i])\n",
    "    return (b - a) * (d - c) / N * fsum\n",
    "\n"
   ]
  },
  {
   "cell_type": "markdown",
   "metadata": {},
   "source": [
    "### Ejemplos regiones rectangulares\n",
    "$$I_1=\\int_{-1}^1 \\int_{-2}^2 \\sqrt{1-x^2}dydx$$\n",
    "\n",
    "$$I_2=\\int_{0}^2\\int_1^2 x-3y^2 dydx$$\n",
    "\n",
    "\n",
    "#### Soluciones analiticas:\n",
    "$$I_1=2\\pi$$\n",
    "$$I_2=-12$$\n"
   ]
  },
  {
   "cell_type": "code",
   "execution_count": 2,
   "metadata": {},
   "outputs": [
    {
     "data": {
      "text/html": [
       "<div>\n",
       "<style scoped>\n",
       "    .dataframe tbody tr th:only-of-type {\n",
       "        vertical-align: middle;\n",
       "    }\n",
       "\n",
       "    .dataframe tbody tr th {\n",
       "        vertical-align: top;\n",
       "    }\n",
       "\n",
       "    .dataframe thead th {\n",
       "        text-align: right;\n",
       "    }\n",
       "</style>\n",
       "<table border=\"1\" class=\"dataframe\">\n",
       "  <thead>\n",
       "    <tr style=\"text-align: right;\">\n",
       "      <th></th>\n",
       "      <th>I1 aprox:</th>\n",
       "      <th>%error1:</th>\n",
       "      <th>I2 aprox:</th>\n",
       "      <th>%error2</th>\n",
       "    </tr>\n",
       "  </thead>\n",
       "  <tbody>\n",
       "    <tr>\n",
       "      <td>10</td>\n",
       "      <td>6.33404</td>\n",
       "      <td>0.809304</td>\n",
       "      <td>-10.9131</td>\n",
       "      <td>9.05759</td>\n",
       "    </tr>\n",
       "    <tr>\n",
       "      <td>100</td>\n",
       "      <td>6.51563</td>\n",
       "      <td>3.69939</td>\n",
       "      <td>-11.958</td>\n",
       "      <td>0.34978</td>\n",
       "    </tr>\n",
       "    <tr>\n",
       "      <td>1000</td>\n",
       "      <td>6.20072</td>\n",
       "      <td>1.31247</td>\n",
       "      <td>-11.8389</td>\n",
       "      <td>1.34224</td>\n",
       "    </tr>\n",
       "    <tr>\n",
       "      <td>10000</td>\n",
       "      <td>6.28731</td>\n",
       "      <td>0.0656515</td>\n",
       "      <td>-12.0419</td>\n",
       "      <td>0.349256</td>\n",
       "    </tr>\n",
       "    <tr>\n",
       "      <td>100000</td>\n",
       "      <td>6.28328</td>\n",
       "      <td>0.00144149</td>\n",
       "      <td>-12.003</td>\n",
       "      <td>0.025154</td>\n",
       "    </tr>\n",
       "    <tr>\n",
       "      <td>1000000</td>\n",
       "      <td>6.28587</td>\n",
       "      <td>0.0427899</td>\n",
       "      <td>-11.992</td>\n",
       "      <td>0.0664053</td>\n",
       "    </tr>\n",
       "    <tr>\n",
       "      <td>10000000</td>\n",
       "      <td>6.28315</td>\n",
       "      <td>0.000570017</td>\n",
       "      <td>-11.9985</td>\n",
       "      <td>0.0123003</td>\n",
       "    </tr>\n",
       "  </tbody>\n",
       "</table>\n",
       "</div>"
      ],
      "text/plain": [
       "         I1 aprox:     %error1: I2 aprox:    %error2\n",
       "10         6.33404     0.809304  -10.9131    9.05759\n",
       "100        6.51563      3.69939   -11.958    0.34978\n",
       "1000       6.20072      1.31247  -11.8389    1.34224\n",
       "10000      6.28731    0.0656515  -12.0419   0.349256\n",
       "100000     6.28328   0.00144149   -12.003   0.025154\n",
       "1000000    6.28587    0.0427899   -11.992  0.0664053\n",
       "10000000   6.28315  0.000570017  -11.9985  0.0123003"
      ]
     },
     "execution_count": 2,
     "metadata": {},
     "output_type": "execute_result"
    }
   ],
   "source": [
    "#funciones\n",
    "def f1(x, y):\n",
    "    return (1 - x**2)**.5\n",
    "def f2(x, y):\n",
    "    return x - 3 * y**2\n",
    "\n",
    "#integrales\n",
    "N = np.logspace(1, 7, 7).astype(int)\n",
    "tabla = pd.DataFrame(index=N, columns=['I1 aprox:', '%error1:', 'I2 aprox:', '%error2'])\n",
    "for n in N:\n",
    "    I_1 = tabla.loc[n, 'I1 aprox:'] = int_montecarlo1(funcion=f1, a=-1, b=1, c=-2, d=2, N=n)\n",
    "    tabla.loc[n, '%error1:'] = 100 * np.abs(2 * math.pi - I_1) / (2 * math.pi) \n",
    "    I_2 = tabla.loc[n, 'I2 aprox:'] = int_montecarlo1(funcion=f2, a=-0, b=2, c=1, d=2, N=n)\n",
    "    tabla.loc[n, '%error2'] = 100 * np.abs(-12 - I_2) / 12 \n",
    "tabla"
   ]
  },
  {
   "cell_type": "markdown",
   "metadata": {},
   "source": [
    "### Ejemplos regiones no rectangulares\n",
    "$$I_3=\\iint_D x^2+y^2 dD,\\ D={(x,y): 2\\leq x\\leq y\\leq6}$$ \n",
    "\n",
    "$$I_4= \\iint_D y^2+cos^2(x^2),\\ D={(x,y): \\frac{x^2}{16}+\\frac{y^2}{36}\\leq 1} $$\n",
    "\n",
    "#### Soluciones analiticas\n",
    "$$I_3=832/3\\approx 277$$\n",
    "$$I_4=230\\pi$$"
   ]
  },
  {
   "cell_type": "code",
   "execution_count": 3,
   "metadata": {},
   "outputs": [],
   "source": [
    "def region1(x, y):\n",
    "    return 2 < x < y < 6\n",
    "#esta funcion es solo para graficar la region1, la anterior no se podia graficar\n",
    "def region1_graf(x, y):\n",
    "    return np.logical_and(2 < x, np.logical_and(x < y, y < 6))\n",
    "\n",
    "def f3(x, y):\n",
    "    return x**2 + y**2\n",
    "\n",
    "def region2(x, y):\n",
    "    return x**2 / 16 + y**2 / 36 < 1\n",
    "\n",
    "def f4(x, y):\n",
    "    return math.cos(x**2)**2 + y**2"
   ]
  },
  {
   "cell_type": "markdown",
   "metadata": {},
   "source": [
    "Se grafican las regiones para elegir un rectangulo que las contenga"
   ]
  },
  {
   "cell_type": "code",
   "execution_count": 21,
   "metadata": {},
   "outputs": [
    {
     "data": {
      "image/png": "[encoded data removed]",
      "text/plain": [
       "<Figure size 432x288 with 1 Axes>"
      ]
     },
     "metadata": {
      "needs_background": "light"
     },
     "output_type": "display_data"
    }
   ],
   "source": [
    "N = 100000\n",
    "x = np.random.uniform(0, 10, N)\n",
    "y = np.random.uniform(0, 10, N)\n",
    "\n",
    "dentro_region1 = region1_graf(x, y)\n",
    "plt.scatter(x[dentro_region1], y[dentro_region1])\n",
    "\n",
    "plt.xlabel('x')\n",
    "plt.ylabel('y');"
   ]
  },
  {
   "cell_type": "markdown",
   "metadata": {},
   "source": [
    "Para la primer region $R=[2,6]\\times[2,6]$"
   ]
  },
  {
   "cell_type": "code",
   "execution_count": 22,
   "metadata": {},
   "outputs": [
    {
     "data": {
      "image/png": "[encoded data removed]",
      "text/plain": [
       "<Figure size 432x288 with 1 Axes>"
      ]
     },
     "metadata": {
      "needs_background": "light"
     },
     "output_type": "display_data"
    }
   ],
   "source": [
    "N = 100000\n",
    "x = np.random.uniform(-10, 10, N)\n",
    "y = np.random.uniform(-10, 10, N)\n",
    "\n",
    "dentro_region2 = region2(x, y)\n",
    "plt.scatter(x[dentro_region2], y[dentro_region2])\n",
    "\n",
    "plt.xlabel('x')\n",
    "plt.ylabel('y');"
   ]
  },
  {
   "cell_type": "markdown",
   "metadata": {},
   "source": [
    "Para esta region $R=[-4,4]\\times [-6,6]$"
   ]
  },
  {
   "cell_type": "code",
   "execution_count": 23,
   "metadata": {},
   "outputs": [
    {
     "data": {
      "text/html": [
       "<div>\n",
       "<style scoped>\n",
       "    .dataframe tbody tr th:only-of-type {\n",
       "        vertical-align: middle;\n",
       "    }\n",
       "\n",
       "    .dataframe tbody tr th {\n",
       "        vertical-align: top;\n",
       "    }\n",
       "\n",
       "    .dataframe thead th {\n",
       "        text-align: right;\n",
       "    }\n",
       "</style>\n",
       "<table border=\"1\" class=\"dataframe\">\n",
       "  <thead>\n",
       "    <tr style=\"text-align: right;\">\n",
       "      <th></th>\n",
       "      <th>I3 aprox:</th>\n",
       "      <th>%error3:</th>\n",
       "      <th>I4 aprox:</th>\n",
       "      <th>%error4:</th>\n",
       "    </tr>\n",
       "  </thead>\n",
       "  <tbody>\n",
       "    <tr>\n",
       "      <td>10</td>\n",
       "      <td>321.309</td>\n",
       "      <td>15.8568</td>\n",
       "      <td>346.734</td>\n",
       "      <td>52.0135</td>\n",
       "    </tr>\n",
       "    <tr>\n",
       "      <td>100</td>\n",
       "      <td>296.342</td>\n",
       "      <td>6.85422</td>\n",
       "      <td>717.8</td>\n",
       "      <td>0.659667</td>\n",
       "    </tr>\n",
       "    <tr>\n",
       "      <td>1000</td>\n",
       "      <td>274.225</td>\n",
       "      <td>1.12063</td>\n",
       "      <td>706.152</td>\n",
       "      <td>2.27165</td>\n",
       "    </tr>\n",
       "    <tr>\n",
       "      <td>10000</td>\n",
       "      <td>282.184</td>\n",
       "      <td>1.74909</td>\n",
       "      <td>722.913</td>\n",
       "      <td>0.047993</td>\n",
       "    </tr>\n",
       "    <tr>\n",
       "      <td>100000</td>\n",
       "      <td>278.475</td>\n",
       "      <td>0.41149</td>\n",
       "      <td>724.972</td>\n",
       "      <td>0.332903</td>\n",
       "    </tr>\n",
       "    <tr>\n",
       "      <td>1000000</td>\n",
       "      <td>277.687</td>\n",
       "      <td>0.127552</td>\n",
       "      <td>721.426</td>\n",
       "      <td>0.157841</td>\n",
       "    </tr>\n",
       "  </tbody>\n",
       "</table>\n",
       "</div>"
      ],
      "text/plain": [
       "        I3 aprox:  %error3: I4 aprox:  %error4:\n",
       "10        321.309   15.8568   346.734   52.0135\n",
       "100       296.342   6.85422     717.8  0.659667\n",
       "1000      274.225   1.12063   706.152   2.27165\n",
       "10000     282.184   1.74909   722.913  0.047993\n",
       "100000    278.475   0.41149   724.972  0.332903\n",
       "1000000   277.687  0.127552   721.426  0.157841"
      ]
     },
     "execution_count": 23,
     "metadata": {},
     "output_type": "execute_result"
    }
   ],
   "source": [
    "a_1, b_1, c_1, d_1= 2, 6, 2, 6\n",
    "a_2, b_2, c_2, d_2= -4, 4, -6, 6\n",
    "N = np.logspace(1, 6, 6).astype(int)\n",
    "tabla = pd.DataFrame(index=N, columns=['I3 aprox:', '%error3:', 'I4 aprox:', '%error4:'])\n",
    "for n in N:\n",
    "    I_3 = tabla.loc[n, 'I3 aprox:'] = int_montecarlo2(region1, f3, a=a_1, b=b_1, c=c_1, d=d_1, N=n)\n",
    "    tabla.loc[n, '%error3:'] = 100 * np.abs(832 / 3 - I_3) / (832 / 3) \n",
    "    I_4 = tabla.loc[n, 'I4 aprox:'] = int_montecarlo2(region2, f4, a=a_2, b=b_2, c=c_2, d=d_2, N=n)\n",
    "    tabla.loc[n, '%error4:'] = 100 * np.abs(230 * math.pi - I_4) / (230 * math.pi) \n",
    "tabla"
   ]
  },
  {
   "cell_type": "markdown",
   "metadata": {},
   "source": [
    "### Referencias\n",
    "AT Patera and M Yano (2014). Monte Carlo Integration... in a Nutshell. MIT. https://ocw.mit.edu/courses/mechanical-engineering/2-086-numerical-computation-for-mechanical-engineers-fall-2014/nutshells-guis/MIT2_086F14_Monte_Carlo.pdf\n",
    "\n",
    "(1) Stewart, J. (2012). Cálculo de varias variables: Trascendentes tempranas (7a edición.). México: Cengage Learning. p:988-990"
   ]
  },
  {
   "cell_type": "code",
   "execution_count": null,
   "metadata": {},
   "outputs": [],
   "source": []
  }
 ],
 "metadata": {
  "kernelspec": {
   "display_name": "Python 3",
   "language": "python",
   "name": "python3"
  },
  "language_info": {
   "codemirror_mode": {
    "name": "ipython",
    "version": 3
   },
   "file_extension": ".py",
   "mimetype": "text/x-python",
   "name": "python",
   "nbconvert_exporter": "python",
   "pygments_lexer": "ipython3",
   "version": "3.7.4"
  }
 },
 "nbformat": 4,
 "nbformat_minor": 4
}
